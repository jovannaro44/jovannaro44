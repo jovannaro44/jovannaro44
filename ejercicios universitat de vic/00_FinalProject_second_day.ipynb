{
 "cells": [
  {
   "cell_type": "markdown",
   "metadata": {
    "collapsed": false
   },
   "source": [
    "Your company needs to launch a product targeted for:\n",
    "* Aries (Group A)\n",
    "* Taurus (Group B)\n",
    "* Gemini (Group C)\n",
    "* Cancer (Group D)\n",
    "* Leo (Group E)\n",
    "* Virgo (Group F)\n",
    "* Libra (Group G)\n",
    "* Scorpio (Group H)\n",
    "* Sagittarius (Group I)\n",
    "* Capricorn (Group J)\n",
    "* Aquarius (Group Z)\n",
    "* Pisces  (No Group)\n",
    "\n",
    "You are aware that you will need to market it using different strategies for the potential customers that consider that believe in the horoscope and the one that do not. After some hours of looking for a dataset, you found out one that suites your interest:\n",
    "* Propose a product for the believers in the horoscope and another product for the non-believers\n",
    "* Design a campaign to market these two products\n",
    "\n",
    "Please, submit the presentation and report for the data visualization analysis. Notice, that it should be a zip file containing the report (pdf), and data analysis (jupyter notebook) files\n",
    "\n",
    "The report should consists of 2500-3000 words (no more than 10 pages)"
   ]
  },
  {
   "cell_type": "markdown",
   "metadata": {
    "collapsed": false
   },
   "source": [
    "# Load the data"
   ]
  },
  {
   "cell_type": "markdown",
   "metadata": {
    "collapsed": false
   },
   "source": [
    "We start by loading the libraries"
   ]
  },
  {
   "cell_type": "code",
   "execution_count": 2,
   "metadata": {
    "collapsed": false
   },
   "outputs": [
   ],
   "source": [
    "import pandas as pd"
   ]
  },
  {
   "cell_type": "markdown",
   "metadata": {
    "collapsed": false
   },
   "source": [
    "We load the data"
   ]
  },
  {
   "cell_type": "code",
   "execution_count": 3,
   "metadata": {
    "collapsed": false
   },
   "outputs": [
   ],
   "source": [
    "df = pd.read_csv('PartnerData/profiles.csv')"
   ]
  },
  {
   "cell_type": "code",
   "execution_count": 5,
   "metadata": {
    "collapsed": false,
    "scrolled": true
   },
   "outputs": [
    {
     "data": {
      "text/plain": [
       "array(['gemini', 'cancer', 'pisces but it doesn&rsquo;t matter', 'pisces',\n",
       "       'aquarius', 'taurus', 'virgo', 'sagittarius',\n",
       "       'gemini but it doesn&rsquo;t matter',\n",
       "       'cancer but it doesn&rsquo;t matter',\n",
       "       'leo but it doesn&rsquo;t matter', nan,\n",
       "       'aquarius but it doesn&rsquo;t matter',\n",
       "       'aries and it&rsquo;s fun to think about',\n",
       "       'libra but it doesn&rsquo;t matter',\n",
       "       'pisces and it&rsquo;s fun to think about', 'libra',\n",
       "       'taurus but it doesn&rsquo;t matter',\n",
       "       'sagittarius but it doesn&rsquo;t matter',\n",
       "       'scorpio and it matters a lot',\n",
       "       'gemini and it&rsquo;s fun to think about',\n",
       "       'leo and it&rsquo;s fun to think about',\n",
       "       'cancer and it&rsquo;s fun to think about',\n",
       "       'libra and it&rsquo;s fun to think about',\n",
       "       'aquarius and it&rsquo;s fun to think about',\n",
       "       'virgo but it doesn&rsquo;t matter',\n",
       "       'scorpio and it&rsquo;s fun to think about',\n",
       "       'capricorn but it doesn&rsquo;t matter', 'scorpio',\n",
       "       'capricorn and it&rsquo;s fun to think about', 'leo',\n",
       "       'aries but it doesn&rsquo;t matter', 'aries',\n",
       "       'scorpio but it doesn&rsquo;t matter',\n",
       "       'sagittarius and it&rsquo;s fun to think about',\n",
       "       'libra and it matters a lot',\n",
       "       'taurus and it&rsquo;s fun to think about',\n",
       "       'leo and it matters a lot',\n",
       "       'virgo and it&rsquo;s fun to think about',\n",
       "       'cancer and it matters a lot', 'capricorn',\n",
       "       'pisces and it matters a lot', 'aries and it matters a lot',\n",
       "       'capricorn and it matters a lot', 'aquarius and it matters a lot',\n",
       "       'sagittarius and it matters a lot', 'gemini and it matters a lot',\n",
       "       'taurus and it matters a lot', 'virgo and it matters a lot'],\n",
       "      dtype=object)"
      ]
     },
     "execution_count": 5,
     "metadata": {
     },
     "output_type": "execute_result"
    }
   ],
   "source": [
    "df.sign.unique()"
   ]
  },
  {
   "cell_type": "code",
   "execution_count": 6,
   "metadata": {
    "collapsed": false
   },
   "outputs": [
    {
     "data": {
      "text/plain": [
       "(59946, 31)"
      ]
     },
     "execution_count": 6,
     "metadata": {
     },
     "output_type": "execute_result"
    }
   ],
   "source": [
    "df.shape"
   ]
  },
  {
   "cell_type": "code",
   "execution_count": 12,
   "metadata": {
    "collapsed": false
   },
   "outputs": [
    {
     "data": {
      "text/plain": [
       "(3946, 31)"
      ]
     },
     "execution_count": 12,
     "metadata": {
     },
     "output_type": "execute_result"
    }
   ],
   "source": [
    "# We need to select the categories from our sign\n",
    "Selector = (df.sign == 'pisces') | (df.sign == 'pisces but it doesn&rsquo;t matter') | (df.sign == 'pisces and it&rsquo;s fun to think about') | (df.sign == 'pisces and it matters a lot')\n",
    "# Alternatively we can use the method isin\n",
    "Selector = (df.sign.isin(['pisces','pisces but it doesn&rsquo;t matter','pisces and it&rsquo;s fun to think about','pisces and it matters a lot'])\n",
    "df = df[Selector]\n",
    "df.shape"
   ]
  },
  {
   "cell_type": "code",
   "execution_count": 0,
   "metadata": {
    "collapsed": false
   },
   "outputs": [
   ],
   "source": [
    "<FILL>"
   ]
  },
  {
   "cell_type": "markdown",
   "metadata": {
    "collapsed": false
   },
   "source": [
    "We inspect the first five elements of the dataset"
   ]
  },
  {
   "cell_type": "code",
   "execution_count": 13,
   "metadata": {
    "collapsed": false
   },
   "outputs": [
    {
     "data": {
      "text/html": [
       "<div>\n",
       "<style scoped>\n",
       "    .dataframe tbody tr th:only-of-type {\n",
       "        vertical-align: middle;\n",
       "    }\n",
       "\n",
       "    .dataframe tbody tr th {\n",
       "        vertical-align: top;\n",
       "    }\n",
       "\n",
       "    .dataframe thead th {\n",
       "        text-align: right;\n",
       "    }\n",
       "</style>\n",
       "<table border=\"1\" class=\"dataframe\">\n",
       "  <thead>\n",
       "    <tr style=\"text-align: right;\">\n",
       "      <th></th>\n",
       "      <th>age</th>\n",
       "      <th>body_type</th>\n",
       "      <th>diet</th>\n",
       "      <th>drinks</th>\n",
       "      <th>drugs</th>\n",
       "      <th>education</th>\n",
       "      <th>essay0</th>\n",
       "      <th>essay1</th>\n",
       "      <th>essay2</th>\n",
       "      <th>essay3</th>\n",
       "      <th>...</th>\n",
       "      <th>location</th>\n",
       "      <th>offspring</th>\n",
       "      <th>orientation</th>\n",
       "      <th>pets</th>\n",
       "      <th>religion</th>\n",
       "      <th>sex</th>\n",
       "      <th>sign</th>\n",
       "      <th>smokes</th>\n",
       "      <th>speaks</th>\n",
       "      <th>status</th>\n",
       "    </tr>\n",
       "  </thead>\n",
       "  <tbody>\n",
       "    <tr>\n",
       "      <th>2</th>\n",
       "      <td>38</td>\n",
       "      <td>thin</td>\n",
       "      <td>anything</td>\n",
       "      <td>socially</td>\n",
       "      <td>NaN</td>\n",
       "      <td>graduated from masters program</td>\n",
       "      <td>i'm not ashamed of much, but writing public te...</td>\n",
       "      <td>i make nerdy software for musicians, artists, ...</td>\n",
       "      <td>improvising in different contexts. alternating...</td>\n",
       "      <td>my large jaw and large glasses are the physica...</td>\n",
       "      <td>...</td>\n",
       "      <td>san francisco, california</td>\n",
       "      <td>NaN</td>\n",
       "      <td>straight</td>\n",
       "      <td>has cats</td>\n",
       "      <td>NaN</td>\n",
       "      <td>m</td>\n",
       "      <td>pisces but it doesn&amp;rsquo;t matter</td>\n",
       "      <td>no</td>\n",
       "      <td>english, french, c++</td>\n",
       "      <td>available</td>\n",
       "    </tr>\n",
       "    <tr>\n",
       "      <th>3</th>\n",
       "      <td>23</td>\n",
       "      <td>thin</td>\n",
       "      <td>vegetarian</td>\n",
       "      <td>socially</td>\n",
       "      <td>NaN</td>\n",
       "      <td>working on college/university</td>\n",
       "      <td>i work in a library and go to school. . .</td>\n",
       "      <td>reading things written by old dead people</td>\n",
       "      <td>playing synthesizers and organizing books acco...</td>\n",
       "      <td>socially awkward but i do my best</td>\n",
       "      <td>...</td>\n",
       "      <td>berkeley, california</td>\n",
       "      <td>doesn&amp;rsquo;t want kids</td>\n",
       "      <td>straight</td>\n",
       "      <td>likes cats</td>\n",
       "      <td>NaN</td>\n",
       "      <td>m</td>\n",
       "      <td>pisces</td>\n",
       "      <td>no</td>\n",
       "      <td>english, german (poorly)</td>\n",
       "      <td>single</td>\n",
       "    </tr>\n",
       "    <tr>\n",
       "      <th>16</th>\n",
       "      <td>33</td>\n",
       "      <td>fit</td>\n",
       "      <td>NaN</td>\n",
       "      <td>socially</td>\n",
       "      <td>NaN</td>\n",
       "      <td>working on masters program</td>\n",
       "      <td>i just moved to the bay area from austin, tx (...</td>\n",
       "      <td>making music, programming, getting back into a...</td>\n",
       "      <td>i'm from louisiana, so cooking and eating are ...</td>\n",
       "      <td>lately, i keep getting asked \"are you with the...</td>\n",
       "      <td>...</td>\n",
       "      <td>oakland, california</td>\n",
       "      <td>NaN</td>\n",
       "      <td>straight</td>\n",
       "      <td>likes dogs and likes cats</td>\n",
       "      <td>NaN</td>\n",
       "      <td>m</td>\n",
       "      <td>pisces but it doesn&amp;rsquo;t matter</td>\n",
       "      <td>sometimes</td>\n",
       "      <td>english (fluently), c++ (fluently), german (po...</td>\n",
       "      <td>single</td>\n",
       "    </tr>\n",
       "    <tr>\n",
       "      <th>19</th>\n",
       "      <td>33</td>\n",
       "      <td>athletic</td>\n",
       "      <td>mostly anything</td>\n",
       "      <td>socially</td>\n",
       "      <td>never</td>\n",
       "      <td>graduated from masters program</td>\n",
       "      <td>i relocated to san francisco half a year ago. ...</td>\n",
       "      <td>i left my comfort zone far behind in europe, a...</td>\n",
       "      <td>listening, connecting emotionally, analyzing t...</td>\n",
       "      <td>cheerful, open, curious, direct, active, sport...</td>\n",
       "      <td>...</td>\n",
       "      <td>san francisco, california</td>\n",
       "      <td>doesn&amp;rsquo;t have kids</td>\n",
       "      <td>straight</td>\n",
       "      <td>likes dogs and likes cats</td>\n",
       "      <td>catholicism but not too serious about it</td>\n",
       "      <td>m</td>\n",
       "      <td>pisces and it&amp;rsquo;s fun to think about</td>\n",
       "      <td>no</td>\n",
       "      <td>english (fluently)</td>\n",
       "      <td>single</td>\n",
       "    </tr>\n",
       "    <tr>\n",
       "      <th>41</th>\n",
       "      <td>35</td>\n",
       "      <td>athletic</td>\n",
       "      <td>strictly anything</td>\n",
       "      <td>NaN</td>\n",
       "      <td>NaN</td>\n",
       "      <td>graduated from college/university</td>\n",
       "      <td>-i grew up in new york and san diego half and ...</td>\n",
       "      <td>NaN</td>\n",
       "      <td>scrambling eggs&lt;br /&gt;\\ntaboo&lt;br /&gt;\\nobscure/us...</td>\n",
       "      <td>once at a party a self confessed psychic told ...</td>\n",
       "      <td>...</td>\n",
       "      <td>oakland, california</td>\n",
       "      <td>doesn&amp;rsquo;t have kids, but wants them</td>\n",
       "      <td>straight</td>\n",
       "      <td>NaN</td>\n",
       "      <td>agnosticism</td>\n",
       "      <td>m</td>\n",
       "      <td>pisces</td>\n",
       "      <td>no</td>\n",
       "      <td>english</td>\n",
       "      <td>single</td>\n",
       "    </tr>\n",
       "  </tbody>\n",
       "</table>\n",
       "<p>5 rows × 31 columns</p>\n",
       "</div>"
      ],
      "text/plain": [
       "    age body_type               diet    drinks  drugs  \\\n",
       "2    38      thin           anything  socially    NaN   \n",
       "3    23      thin         vegetarian  socially    NaN   \n",
       "16   33       fit                NaN  socially    NaN   \n",
       "19   33  athletic    mostly anything  socially  never   \n",
       "41   35  athletic  strictly anything       NaN    NaN   \n",
       "\n",
       "                            education  \\\n",
       "2      graduated from masters program   \n",
       "3       working on college/university   \n",
       "16         working on masters program   \n",
       "19     graduated from masters program   \n",
       "41  graduated from college/university   \n",
       "\n",
       "                                               essay0  \\\n",
       "2   i'm not ashamed of much, but writing public te...   \n",
       "3           i work in a library and go to school. . .   \n",
       "16  i just moved to the bay area from austin, tx (...   \n",
       "19  i relocated to san francisco half a year ago. ...   \n",
       "41  -i grew up in new york and san diego half and ...   \n",
       "\n",
       "                                               essay1  \\\n",
       "2   i make nerdy software for musicians, artists, ...   \n",
       "3           reading things written by old dead people   \n",
       "16  making music, programming, getting back into a...   \n",
       "19  i left my comfort zone far behind in europe, a...   \n",
       "41                                                NaN   \n",
       "\n",
       "                                               essay2  \\\n",
       "2   improvising in different contexts. alternating...   \n",
       "3   playing synthesizers and organizing books acco...   \n",
       "16  i'm from louisiana, so cooking and eating are ...   \n",
       "19  listening, connecting emotionally, analyzing t...   \n",
       "41  scrambling eggs<br />\\ntaboo<br />\\nobscure/us...   \n",
       "\n",
       "                                               essay3  ...  \\\n",
       "2   my large jaw and large glasses are the physica...  ...   \n",
       "3                   socially awkward but i do my best  ...   \n",
       "16  lately, i keep getting asked \"are you with the...  ...   \n",
       "19  cheerful, open, curious, direct, active, sport...  ...   \n",
       "41  once at a party a self confessed psychic told ...  ...   \n",
       "\n",
       "                     location                                offspring  \\\n",
       "2   san francisco, california                                      NaN   \n",
       "3        berkeley, california                  doesn&rsquo;t want kids   \n",
       "16        oakland, california                                      NaN   \n",
       "19  san francisco, california                  doesn&rsquo;t have kids   \n",
       "41        oakland, california  doesn&rsquo;t have kids, but wants them   \n",
       "\n",
       "   orientation                       pets  \\\n",
       "2     straight                   has cats   \n",
       "3     straight                 likes cats   \n",
       "16    straight  likes dogs and likes cats   \n",
       "19    straight  likes dogs and likes cats   \n",
       "41    straight                        NaN   \n",
       "\n",
       "                                    religion sex  \\\n",
       "2                                        NaN   m   \n",
       "3                                        NaN   m   \n",
       "16                                       NaN   m   \n",
       "19  catholicism but not too serious about it   m   \n",
       "41                               agnosticism   m   \n",
       "\n",
       "                                        sign     smokes  \\\n",
       "2         pisces but it doesn&rsquo;t matter         no   \n",
       "3                                     pisces         no   \n",
       "16        pisces but it doesn&rsquo;t matter  sometimes   \n",
       "19  pisces and it&rsquo;s fun to think about         no   \n",
       "41                                    pisces         no   \n",
       "\n",
       "                                               speaks     status  \n",
       "2                                english, french, c++  available  \n",
       "3                            english, german (poorly)     single  \n",
       "16  english (fluently), c++ (fluently), german (po...     single  \n",
       "19                                 english (fluently)     single  \n",
       "41                                            english     single  \n",
       "\n",
       "[5 rows x 31 columns]"
      ]
     },
     "execution_count": 13,
     "metadata": {
     },
     "output_type": "execute_result"
    }
   ],
   "source": [
    "df.head()"
   ]
  },
  {
   "cell_type": "markdown",
   "metadata": {
    "collapsed": false
   },
   "source": [
    "What is the format of the dataset"
   ]
  },
  {
   "cell_type": "code",
   "execution_count": 14,
   "metadata": {
    "collapsed": false
   },
   "outputs": [
    {
     "name": "stdout",
     "output_type": "stream",
     "text": [
      "<class 'pandas.core.frame.DataFrame'>\n",
      "Int64Index: 3946 entries, 2 to 59939\n",
      "Data columns (total 31 columns):\n",
      " #   Column       Non-Null Count  Dtype  \n",
      "---  ------       --------------  -----  \n",
      " 0   age          3946 non-null   int64  \n",
      " 1   body_type    3620 non-null   object \n",
      " 2   diet         2430 non-null   object \n",
      " 3   drinks       3826 non-null   object \n",
      " 4   drugs        2989 non-null   object \n",
      " 5   education    3602 non-null   object \n",
      " 6   essay0       3614 non-null   object \n",
      " 7   essay1       3513 non-null   object \n",
      " 8   essay2       3394 non-null   object \n",
      " 9   essay3       3306 non-null   object \n",
      " 10  essay4       3323 non-null   object \n",
      " 11  essay5       3331 non-null   object \n",
      " 12  essay6       3155 non-null   object \n",
      " 13  essay7       3245 non-null   object \n",
      " 14  essay8       2810 non-null   object \n",
      " 15  essay9       3205 non-null   object \n",
      " 16  ethnicity    3626 non-null   object \n",
      " 17  height       3946 non-null   float64\n",
      " 18  income       3946 non-null   int64  \n",
      " 19  job          3532 non-null   object \n",
      " 20  last_online  3946 non-null   object \n",
      " 21  location     3946 non-null   object \n",
      " 22  offspring    1692 non-null   object \n",
      " 23  orientation  3946 non-null   object \n",
      " 24  pets         2839 non-null   object \n",
      " 25  religion     2784 non-null   object \n",
      " 26  sex          3946 non-null   object \n",
      " 27  sign         3946 non-null   object \n",
      " 28  smokes       3629 non-null   object \n",
      " 29  speaks       3942 non-null   object \n",
      " 30  status       3946 non-null   object \n",
      "dtypes: float64(1), int64(2), object(28)\n",
      "memory usage: 986.5+ KB\n"
     ]
    }
   ],
   "source": [
    "df.info()"
   ]
  },
  {
   "cell_type": "markdown",
   "metadata": {
    "collapsed": false
   },
   "source": [
    "We see that most of the variables are not properly coded by int, float or string (see object in column Dtype)"
   ]
  },
  {
   "cell_type": "markdown",
   "metadata": {
    "collapsed": false
   },
   "source": [
    "### The first step is to classify the variables in the proper format"
   ]
  },
  {
   "cell_type": "markdown",
   "metadata": {
    "collapsed": false
   },
   "source": [
    "We have three possibilities:\n",
    "* Categorical (yellow, blue, green)\n",
    "* Ordinal (first, second, third)\n",
    "* Continous (1.76cm)"
   ]
  },
  {
   "cell_type": "markdown",
   "metadata": {
    "collapsed": false
   },
   "source": [
    "#### Example: Categorical"
   ]
  },
  {
   "cell_type": "code",
   "execution_count": 15,
   "metadata": {
    "collapsed": false
   },
   "outputs": [
    {
     "data": {
      "text/plain": [
       "array(['thin', 'fit', 'athletic', nan, 'average', 'curvy',\n",
       "       'a little extra', 'skinny', 'overweight', 'full figured',\n",
       "       'used up', 'rather not say', 'jacked'], dtype=object)"
      ]
     },
     "execution_count": 15,
     "metadata": {
     },
     "output_type": "execute_result"
    }
   ],
   "source": [
    "df.body_type.unique()"
   ]
  },
  {
   "cell_type": "markdown",
   "metadata": {
    "collapsed": false
   },
   "source": [
    "We define it as categorical variable"
   ]
  },
  {
   "cell_type": "code",
   "execution_count": 19,
   "metadata": {
    "collapsed": false
   },
   "outputs": [
   ],
   "source": [
    "df.body_type = df.body_type.astype('category')"
   ]
  },
  {
   "cell_type": "code",
   "execution_count": 20,
   "metadata": {
    "collapsed": false
   },
   "outputs": [
    {
     "name": "stdout",
     "output_type": "stream",
     "text": [
      "<class 'pandas.core.frame.DataFrame'>\n",
      "RangeIndex: 59946 entries, 0 to 59945\n",
      "Data columns (total 31 columns):\n",
      " #   Column       Non-Null Count  Dtype   \n",
      "---  ------       --------------  -----   \n",
      " 0   age          59946 non-null  int64   \n",
      " 1   body_type    54650 non-null  category\n",
      " 2   diet         35551 non-null  object  \n",
      " 3   drinks       56961 non-null  object  \n",
      " 4   drugs        45866 non-null  object  \n",
      " 5   education    53318 non-null  object  \n",
      " 6   essay0       54458 non-null  object  \n",
      " 7   essay1       52374 non-null  object  \n",
      " 8   essay2       50308 non-null  object  \n",
      " 9   essay3       48470 non-null  object  \n",
      " 10  essay4       49409 non-null  object  \n",
      " 11  essay5       49096 non-null  object  \n",
      " 12  essay6       46175 non-null  object  \n",
      " 13  essay7       47495 non-null  object  \n",
      " 14  essay8       40721 non-null  object  \n",
      " 15  essay9       47343 non-null  object  \n",
      " 16  ethnicity    54266 non-null  object  \n",
      " 17  height       59943 non-null  float64 \n",
      " 18  income       59946 non-null  int64   \n",
      " 19  job          51748 non-null  object  \n",
      " 20  last_online  59946 non-null  object  \n",
      " 21  location     59946 non-null  object  \n",
      " 22  offspring    24385 non-null  object  \n",
      " 23  orientation  59946 non-null  object  \n",
      " 24  pets         40025 non-null  object  \n",
      " 25  religion     39720 non-null  object  \n",
      " 26  sex          59946 non-null  object  \n",
      " 27  sign         48890 non-null  object  \n",
      " 28  smokes       54434 non-null  object  \n",
      " 29  speaks       59896 non-null  object  \n",
      " 30  status       59946 non-null  object  \n",
      "dtypes: category(1), float64(1), int64(2), object(27)\n",
      "memory usage: 13.8+ MB\n"
     ]
    }
   ],
   "source": [
    "df.info()"
   ]
  },
  {
   "cell_type": "markdown",
   "metadata": {
    "collapsed": false
   },
   "source": [
    "We can now see in row 1 that the variable is a category now"
   ]
  },
  {
   "cell_type": "markdown",
   "metadata": {
    "collapsed": false
   },
   "source": [
    "#### Example: Ordinal"
   ]
  },
  {
   "cell_type": "code",
   "execution_count": 16,
   "metadata": {
    "collapsed": false
   },
   "outputs": [
    {
     "data": {
      "text/plain": [
       "array(['no', 'sometimes', 'when drinking', 'trying to quit', 'yes', nan],\n",
       "      dtype=object)"
      ]
     },
     "execution_count": 16,
     "metadata": {
     },
     "output_type": "execute_result"
    }
   ],
   "source": [
    "df.smokes.unique()"
   ]
  },
  {
   "cell_type": "code",
   "execution_count": 17,
   "metadata": {
    "collapsed": false
   },
   "outputs": [
    {
     "data": {
      "text/plain": [
       "2               no\n",
       "3               no\n",
       "16       sometimes\n",
       "19              no\n",
       "41              no\n",
       "           ...    \n",
       "59898          yes\n",
       "59925           no\n",
       "59929           no\n",
       "59934           no\n",
       "59939           no\n",
       "Name: smokes, Length: 3946, dtype: category\n",
       "Categories (5, object): [no < sometimes < when drinking < trying to quit < yes]"
      ]
     },
     "execution_count": 17,
     "metadata": {
     },
     "output_type": "execute_result"
    }
   ],
   "source": [
    "from pandas.api.types import CategoricalDtype\n",
    "\n",
    "# We define it as categorical variable\n",
    "df.smokes = df.smokes.astype('category')\n",
    "\n",
    "# We provide an order in the following list that it will be used later on\n",
    "categories_unordered = ['no', 'sometimes', 'when drinking', 'trying to quit', 'yes']\n",
    "\n",
    "# We convert it an save it\n",
    "df.smokes = df.smokes.cat.reorder_categories(categories_unordered, ordered=True)\n",
    "df.smokes"
   ]
  },
  {
   "cell_type": "markdown",
   "metadata": {
    "collapsed": false
   },
   "source": [
    "Let's check that we have properly done it (see column 28)"
   ]
  },
  {
   "cell_type": "code",
   "execution_count": 18,
   "metadata": {
    "collapsed": false
   },
   "outputs": [
    {
     "name": "stdout",
     "output_type": "stream",
     "text": [
      "<class 'pandas.core.frame.DataFrame'>\n",
      "Int64Index: 3946 entries, 2 to 59939\n",
      "Data columns (total 31 columns):\n",
      " #   Column       Non-Null Count  Dtype   \n",
      "---  ------       --------------  -----   \n",
      " 0   age          3946 non-null   int64   \n",
      " 1   body_type    3620 non-null   object  \n",
      " 2   diet         2430 non-null   object  \n",
      " 3   drinks       3826 non-null   object  \n",
      " 4   drugs        2989 non-null   object  \n",
      " 5   education    3602 non-null   object  \n",
      " 6   essay0       3614 non-null   object  \n",
      " 7   essay1       3513 non-null   object  \n",
      " 8   essay2       3394 non-null   object  \n",
      " 9   essay3       3306 non-null   object  \n",
      " 10  essay4       3323 non-null   object  \n",
      " 11  essay5       3331 non-null   object  \n",
      " 12  essay6       3155 non-null   object  \n",
      " 13  essay7       3245 non-null   object  \n",
      " 14  essay8       2810 non-null   object  \n",
      " 15  essay9       3205 non-null   object  \n",
      " 16  ethnicity    3626 non-null   object  \n",
      " 17  height       3946 non-null   float64 \n",
      " 18  income       3946 non-null   int64   \n",
      " 19  job          3532 non-null   object  \n",
      " 20  last_online  3946 non-null   object  \n",
      " 21  location     3946 non-null   object  \n",
      " 22  offspring    1692 non-null   object  \n",
      " 23  orientation  3946 non-null   object  \n",
      " 24  pets         2839 non-null   object  \n",
      " 25  religion     2784 non-null   object  \n",
      " 26  sex          3946 non-null   object  \n",
      " 27  sign         3946 non-null   object  \n",
      " 28  smokes       3629 non-null   category\n",
      " 29  speaks       3942 non-null   object  \n",
      " 30  status       3946 non-null   object  \n",
      "dtypes: category(1), float64(1), int64(2), object(27)\n",
      "memory usage: 959.7+ KB\n"
     ]
    }
   ],
   "source": [
    "df.info()"
   ]
  },
  {
   "cell_type": "markdown",
   "metadata": {
    "collapsed": false
   },
   "source": [
    "#### Example: Continous"
   ]
  },
  {
   "cell_type": "code",
   "execution_count": 24,
   "metadata": {
    "collapsed": false
   },
   "outputs": [
    {
     "data": {
      "text/plain": [
       "array([     -1,   20000,  150000,   40000,  100000,   30000,   70000,\n",
       "         50000,   80000,   60000, 1000000,  250000,  500000])"
      ]
     },
     "execution_count": 24,
     "metadata": {
     },
     "output_type": "execute_result"
    }
   ],
   "source": [
    "df.income.unique()"
   ]
  },
  {
   "cell_type": "markdown",
   "metadata": {
    "collapsed": false
   },
   "source": [
    "It is already in the proper format!"
   ]
  },
  {
   "cell_type": "markdown",
   "metadata": {
    "collapsed": false
   },
   "source": [
    "### Exceptions: Time\n",
    "One variable is last_online, you need to convert it to a time structure (see slides and DatetimeIndex)"
   ]
  },
  {
   "cell_type": "code",
   "execution_count": 0,
   "metadata": {
    "collapsed": false
   },
   "outputs": [
   ],
   "source": [
    "<FILL>"
   ]
  },
  {
   "cell_type": "markdown",
   "metadata": {
    "collapsed": false
   },
   "source": [
    "### Exceptions: Text\n",
    "We are not working with text, so we delete it"
   ]
  },
  {
   "cell_type": "markdown",
   "metadata": {
    "collapsed": false
   },
   "source": [
    "#### Let's do with essay0"
   ]
  },
  {
   "cell_type": "code",
   "execution_count": 24,
   "metadata": {
    "collapsed": false
   },
   "outputs": [
    {
     "data": {
      "text/plain": [
       "0    about me:<br />\\n<br />\\ni would love to think...\n",
       "1    i am a chef: this is what that means.<br />\\n1...\n",
       "2    i'm not ashamed of much, but writing public te...\n",
       "3            i work in a library and go to school. . .\n",
       "4    hey how's it going? currently vague on the pro...\n",
       "Name: essay0, dtype: object"
      ]
     },
     "execution_count": 24,
     "metadata": {
     },
     "output_type": "execute_result"
    }
   ],
   "source": [
    "# Let's see the data\n",
    "df.essay0[0:5]"
   ]
  },
  {
   "cell_type": "markdown",
   "metadata": {
    "collapsed": false
   },
   "source": [
    "We are going to drop the text because we are not goint to use it"
   ]
  },
  {
   "cell_type": "code",
   "execution_count": 25,
   "metadata": {
    "collapsed": false
   },
   "outputs": [
   ],
   "source": [
    "df.drop(columns=['essay0'],inplace=True)"
   ]
  },
  {
   "cell_type": "code",
   "execution_count": 26,
   "metadata": {
    "collapsed": false
   },
   "outputs": [
    {
     "name": "stdout",
     "output_type": "stream",
     "text": [
      "<class 'pandas.core.frame.DataFrame'>\n",
      "RangeIndex: 59946 entries, 0 to 59945\n",
      "Data columns (total 30 columns):\n",
      " #   Column       Non-Null Count  Dtype   \n",
      "---  ------       --------------  -----   \n",
      " 0   age          59946 non-null  int64   \n",
      " 1   body_type    54650 non-null  category\n",
      " 2   diet         35551 non-null  object  \n",
      " 3   drinks       56961 non-null  object  \n",
      " 4   drugs        45866 non-null  object  \n",
      " 5   education    53318 non-null  object  \n",
      " 6   essay1       52374 non-null  object  \n",
      " 7   essay2       50308 non-null  object  \n",
      " 8   essay3       48470 non-null  object  \n",
      " 9   essay4       49409 non-null  object  \n",
      " 10  essay5       49096 non-null  object  \n",
      " 11  essay6       46175 non-null  object  \n",
      " 12  essay7       47495 non-null  object  \n",
      " 13  essay8       40721 non-null  object  \n",
      " 14  essay9       47343 non-null  object  \n",
      " 15  ethnicity    54266 non-null  object  \n",
      " 16  height       59943 non-null  float64 \n",
      " 17  income       59946 non-null  int64   \n",
      " 18  job          51748 non-null  object  \n",
      " 19  last_online  59946 non-null  object  \n",
      " 20  location     59946 non-null  object  \n",
      " 21  offspring    24385 non-null  object  \n",
      " 22  orientation  59946 non-null  object  \n",
      " 23  pets         40025 non-null  object  \n",
      " 24  religion     39720 non-null  object  \n",
      " 25  sex          59946 non-null  object  \n",
      " 26  sign         48890 non-null  object  \n",
      " 27  smokes       54434 non-null  category\n",
      " 28  speaks       59896 non-null  object  \n",
      " 29  status       59946 non-null  object  \n",
      "dtypes: category(2), float64(1), int64(2), object(25)\n",
      "memory usage: 12.9+ MB\n"
     ]
    }
   ],
   "source": [
    "df.info()"
   ]
  },
  {
   "cell_type": "markdown",
   "metadata": {
    "collapsed": false
   },
   "source": [
    "#### [ACTION] You should apply it to the rest of the variables until there is no more objects"
   ]
  },
  {
   "cell_type": "code",
   "execution_count": 0,
   "metadata": {
    "collapsed": false
   },
   "outputs": [
   ],
   "source": [
    "<Fill>"
   ]
  },
  {
   "cell_type": "markdown",
   "metadata": {
    "collapsed": false
   },
   "source": [
    "### The second step is to solve the missing values"
   ]
  },
  {
   "cell_type": "code",
   "execution_count": 65,
   "metadata": {
    "collapsed": false
   },
   "outputs": [
    {
     "name": "stdout",
     "output_type": "stream",
     "text": [
      "<class 'pandas.core.frame.DataFrame'>\n",
      "RangeIndex: 59946 entries, 0 to 59945\n",
      "Data columns (total 31 columns):\n",
      " #   Column       Non-Null Count  Dtype   \n",
      "---  ------       --------------  -----   \n",
      " 0   age          59946 non-null  int64   \n",
      " 1   body_type    54650 non-null  category\n",
      " 2   diet         35551 non-null  object  \n",
      " 3   drinks       56961 non-null  object  \n",
      " 4   drugs        45866 non-null  object  \n",
      " 5   education    53318 non-null  object  \n",
      " 6   essay0       54458 non-null  object  \n",
      " 7   essay1       52374 non-null  object  \n",
      " 8   essay2       50308 non-null  object  \n",
      " 9   essay3       48470 non-null  object  \n",
      " 10  essay4       49409 non-null  object  \n",
      " 11  essay5       49096 non-null  object  \n",
      " 12  essay6       46175 non-null  object  \n",
      " 13  essay7       47495 non-null  object  \n",
      " 14  essay8       40721 non-null  object  \n",
      " 15  essay9       47343 non-null  object  \n",
      " 16  ethnicity    54266 non-null  object  \n",
      " 17  height       59943 non-null  float64 \n",
      " 18  income       59946 non-null  int64   \n",
      " 19  job          51748 non-null  object  \n",
      " 20  last_online  59946 non-null  object  \n",
      " 21  location     59946 non-null  object  \n",
      " 22  offspring    24385 non-null  object  \n",
      " 23  orientation  59946 non-null  object  \n",
      " 24  pets         40025 non-null  object  \n",
      " 25  religion     39720 non-null  object  \n",
      " 26  sex          59946 non-null  object  \n",
      " 27  sign         48890 non-null  object  \n",
      " 28  smokes       54434 non-null  category\n",
      " 29  speaks       59896 non-null  object  \n",
      " 30  status       59946 non-null  object  \n",
      "dtypes: category(2), float64(1), int64(2), object(26)\n",
      "memory usage: 13.4+ MB\n"
     ]
    }
   ],
   "source": [
    "df.info()"
   ]
  },
  {
   "cell_type": "markdown",
   "metadata": {
    "collapsed": false
   },
   "source": [
    "#### Let's start with the first variable"
   ]
  },
  {
   "cell_type": "markdown",
   "metadata": {
    "collapsed": false
   },
   "source": [
    "Let's figure out what can we do with the missing values. Let's the percentage"
   ]
  },
  {
   "cell_type": "code",
   "execution_count": 27,
   "metadata": {
    "collapsed": false
   },
   "outputs": [
    {
     "name": "stdout",
     "output_type": "stream",
     "text": [
      "9%\n"
     ]
    }
   ],
   "source": [
    "print(str(round(sum(df.body_type.isna())/len(df.body_type)*100)) + '%')"
   ]
  },
  {
   "cell_type": "markdown",
   "metadata": {
    "collapsed": false
   },
   "source": [
    "##### As we have it less than 10%, we either substitute it by:\n",
    "* the average (if it was a continuous variable). You should use Series.mean()\n",
    "* the median (if it is ordinal). You should use Series.median()\n",
    "* the mode (if it is categorical). You should use Series.mode()"
   ]
  },
  {
   "cell_type": "code",
   "execution_count": 28,
   "metadata": {
    "collapsed": false
   },
   "outputs": [
    {
     "data": {
      "text/plain": [
       "'average'"
      ]
     },
     "execution_count": 28,
     "metadata": {
     },
     "output_type": "execute_result"
    }
   ],
   "source": [
    "df.body_type.mode()[0]"
   ]
  },
  {
   "cell_type": "code",
   "execution_count": 29,
   "metadata": {
    "collapsed": false
   },
   "outputs": [
   ],
   "source": [
    "df.body_type = df.body_type.fillna(df.body_type.mode()[0])"
   ]
  },
  {
   "cell_type": "code",
   "execution_count": 30,
   "metadata": {
    "collapsed": false
   },
   "outputs": [
    {
     "name": "stdout",
     "output_type": "stream",
     "text": [
      "0%\n"
     ]
    }
   ],
   "source": [
    "# Let's check it out\n",
    "print(str(round(sum(df.body_type.isna())/len(df.body_type)*100)) + '%')"
   ]
  },
  {
   "cell_type": "code",
   "execution_count": 31,
   "metadata": {
    "collapsed": false
   },
   "outputs": [
    {
     "data": {
      "text/plain": [
       "[a little extra, average, thin, athletic, fit, ..., full figured, jacked, rather not say, used up, overweight]\n",
       "Length: 12\n",
       "Categories (12, object): [a little extra, average, thin, athletic, ..., jacked, rather not say, used up, overweight]"
      ]
     },
     "execution_count": 31,
     "metadata": {
     },
     "output_type": "execute_result"
    }
   ],
   "source": [
    "df.body_type.unique()"
   ]
  },
  {
   "cell_type": "markdown",
   "metadata": {
    "collapsed": false
   },
   "source": [
    "#### [ACTION] You should apply it to the rest of the variables until there is no more objects"
   ]
  },
  {
   "cell_type": "code",
   "execution_count": 0,
   "metadata": {
    "collapsed": false
   },
   "outputs": [
   ],
   "source": [
   ]
  },
  {
   "cell_type": "markdown",
   "metadata": {
    "collapsed": false
   },
   "source": [
    "## [Analytics] The next element is to understand the main characteristics for male and female depending on each variables"
   ]
  },
  {
   "cell_type": "code",
   "execution_count": 0,
   "metadata": {
    "collapsed": false
   },
   "outputs": [
   ],
   "source": [
   ]
  },
  {
   "cell_type": "code",
   "execution_count": 0,
   "metadata": {
    "collapsed": false
   },
   "outputs": [
   ],
   "source": [
   ]
  },
  {
   "cell_type": "code",
   "execution_count": 0,
   "metadata": {
    "collapsed": false
   },
   "outputs": [
   ],
   "source": [
   ]
  }
 ],
 "metadata": {
  "kernelspec": {
   "display_name": "Python 3 (system-wide)",
   "language": "python",
   "metadata": {
    "cocalc": {
     "description": "Python 3 programming language",
     "priority": 100,
     "url": "https://www.python.org/"
    }
   },
   "name": "python3"
  },
  "language_info": {
   "codemirror_mode": {
    "name": "ipython",
    "version": 3
   },
   "file_extension": ".py",
   "mimetype": "text/x-python",
   "name": "python",
   "nbconvert_exporter": "python",
   "pygments_lexer": "ipython3",
   "version": "3.6.9"
  }
 },
 "nbformat": 4,
 "nbformat_minor": 4
}