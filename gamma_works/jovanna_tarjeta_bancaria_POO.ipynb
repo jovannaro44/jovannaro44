{
 "cells": [
  {
   "cell_type": "markdown",
   "metadata": {},
   "source": [
    "### [BONUS](#Ejercicio)\n",
    "\n",
    "***1 - Tarjeta Bancaria:***\n",
    "\n",
    "Crear una clase tarjeta de crédito que tenga como atributos el número de la tarjeta, fecha de caducidad,nombre del titular, estado de la tarjeta, pin y el saldo. Y como métodos, activar tarjeta, desactivar tarjeta, pagar, retirar, ingresar y consultar saldo.\n",
    "\n",
    "Ten en cuenta las siguientes restricciones:\n",
    "- El único parámetro para el constructor será el Nombre del Titula de la tarjeta\n",
    "- La fecha de caducidad será el mes de emision + 2 años de validez\n",
    "- El numero de la tarjeta deber tener 8 dígitos que se generen de manera aleatoria al crear la tarjeta\n",
    "- El pin debe tener 4 dígitos aleatorios\n",
    "- La tarjeta tiene que estar desactivada por defecto\n",
    "- El saldo no puede ser negativo\n",
    "- El saldo por defecto debe ser 500€"
   ]
  },
  {
   "cell_type": "code",
   "execution_count": 7,
   "metadata": {},
   "outputs": [],
   "source": [
    "import random\n",
    "from datetime import datetime, timedelta\n",
    "from dateutil.relativedelta import relativedelta\n"
   ]
  },
  {
   "cell_type": "code",
   "execution_count": null,
   "metadata": {},
   "outputs": [],
   "source": [
    "\n",
    "class tarjeta:\n",
    "    def __init__(self, titular):\n",
    "        self.titular = titular\n",
    "        self.numero = self.crear_numero()\n",
    "        self.fecha_caducidad = self.crear_fecha_caducidad()\n",
    "        self.activada = False  \n",
    "        self.pin = self.crear_pin()\n",
    "        self.saldo = 500.0  \n",
    "\n",
    "    def crear_numero(self):\n",
    "        #generar los digitos d ela tarjeta de manera alaeatoria\n",
    "        return ''.join([str(random.randint(0, 9)) for _ in range(16)])\n",
    "\n",
    "    def crear_pin(self):\n",
    "        return ''.join([str(random.randint(0, 9)) for _ in range(4)])\n",
    "\n",
    "    def crear_fecha_caducidad(self):\n",
    "        fecha_creacion = datetime.now()\n",
    "        fecha_caducidad = fecha_creacion + relativedelta(years=2)\n",
    "        return fecha_caducidad.strftime('%m/%Y').replace('20','')\n",
    "\n",
    "    def activar_tarjeta(self):\n",
    "        self.activada = False\n",
    "        intentos = 0\n",
    "        while intentos < 3:\n",
    "            pin_ingresado = input(\"Introduce el PIN para activar tarjeta: \")\n",
    "\n",
    "            if pin_ingresado == self.pin:\n",
    "                self.activada = True\n",
    "                return('Tu tarjeta ahora esta activada')\n",
    "            else:\n",
    "                intentos += 1\n",
    "             print('Error: Pin incorrecto. Te quedan {3 - intentos}') \n",
    "        #este print va a la altura del bucle while para finalizarlo si es que se intenta mas de 3 veces\n",
    "        print('Error: Haz alcanzado el máximo de intentos. Tu tarjeta ha sido bloqueada contacta con tu oficina local')\n",
    "\n",
    "    def desactivar_tarjeta(self):\n",
    "        self.activada = False\n",
    "        print('La tarjeta ha sido desactivada')\n",
    "\n",
    "    def pagar(self, cantidad):\n",
    "        if not self.activada:\n",
    "            return('Error: La tarjeta está desactivada')     \n",
    "        if cantidad > self.saldo:\n",
    "            return('Error: Saldo insuficiente')     \n",
    "        #que oida el pin para acntidades mayores a 20\n",
    "        if cantidad > 20:\n",
    "            pin_ingresado = input(\"Introduce el PIN para completar la transacción: \")\n",
    "            if pin_ingresado != self.pin:\n",
    "                return(\"Error: PIN incorrecto.\")\n",
    "            \n",
    "        #acepta pago si la cantidad es menor a 20 o si el pin es correcto\n",
    "        self.saldo -= cantidad\n",
    "        print(f'Pago realizado. Saldo actual: {self.saldo}€')\n",
    "\n",
    "    def retirar(self, cantidad):\n",
    "        if not self.activada:\n",
    "            print('Error: La tarjeta está desactivada')\n",
    "            return\n",
    "        if cantidad > self.saldo:\n",
    "            print('Error: Saldo insuficiente')\n",
    "            return\n",
    "        self.saldo -= cantidad\n",
    "        print(f'Retiro realizado. Saldo actual: {self.saldo}€')\n",
    "\n",
    "    def ingresar(self, cantidad):\n",
    "        if cantidad < 0:\n",
    "            print('Error: No se puede ingresar una cantidad negativa')\n",
    "            return\n",
    "        self.saldo += cantidad\n",
    "        print(f'Ingreso realizado. Saldo actual: {self.saldo}€')\n",
    "\n",
    "    def consultar_saldo(self):\n",
    "        print(f'Tu saldoa ctual es {self.saldo}€')\n"
   ]
  },
  {
   "cell_type": "code",
   "execution_count": null,
   "metadata": {},
   "outputs": [],
   "source": []
  },
  {
   "cell_type": "code",
   "execution_count": 8,
   "metadata": {},
   "outputs": [
    {
     "name": "stdout",
     "output_type": "stream",
     "text": [
      "10/26\n"
     ]
    }
   ],
   "source": [
    "fecha_creacion = datetime.now()\n",
    "fecha_caducidad = fecha_creacion + relativedelta(years=2)\n",
    "print(fecha_caducidad.strftime('%m/%Y').replace('20',''))"
   ]
  },
  {
   "cell_type": "code",
   "execution_count": null,
   "metadata": {},
   "outputs": [],
   "source": []
  }
 ],
 "metadata": {
  "kernelspec": {
   "display_name": "gamma",
   "language": "python",
   "name": "python3"
  },
  "language_info": {
   "codemirror_mode": {
    "name": "ipython",
    "version": 3
   },
   "file_extension": ".py",
   "mimetype": "text/x-python",
   "name": "python",
   "nbconvert_exporter": "python",
   "pygments_lexer": "ipython3",
   "version": "3.8.18"
  }
 },
 "nbformat": 4,
 "nbformat_minor": 2
}
