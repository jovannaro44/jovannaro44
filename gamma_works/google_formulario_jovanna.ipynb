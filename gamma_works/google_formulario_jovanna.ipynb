{
 "cells": [
  {
   "cell_type": "code",
   "execution_count": 483,
   "metadata": {},
   "outputs": [
    {
     "name": "stdout",
     "output_type": "stream",
     "text": [
      "Requirement already satisfied: selenium in /usr/local/Caskroom/miniconda/base/envs/gamma/lib/python3.8/site-packages (4.24.0)\n",
      "Requirement already satisfied: urllib3<3,>=1.26 in /usr/local/Caskroom/miniconda/base/envs/gamma/lib/python3.8/site-packages (from urllib3[socks]<3,>=1.26->selenium) (2.2.2)\n",
      "Requirement already satisfied: trio~=0.17 in /usr/local/Caskroom/miniconda/base/envs/gamma/lib/python3.8/site-packages (from selenium) (0.26.2)\n",
      "Requirement already satisfied: trio-websocket~=0.9 in /usr/local/Caskroom/miniconda/base/envs/gamma/lib/python3.8/site-packages (from selenium) (0.11.1)\n",
      "Requirement already satisfied: certifi>=2021.10.8 in /usr/local/Caskroom/miniconda/base/envs/gamma/lib/python3.8/site-packages (from selenium) (2024.8.30)\n",
      "Requirement already satisfied: typing_extensions~=4.9 in /usr/local/Caskroom/miniconda/base/envs/gamma/lib/python3.8/site-packages (from selenium) (4.12.2)\n",
      "Requirement already satisfied: websocket-client~=1.8 in /usr/local/Caskroom/miniconda/base/envs/gamma/lib/python3.8/site-packages (from selenium) (1.8.0)\n",
      "Requirement already satisfied: attrs>=23.2.0 in /usr/local/Caskroom/miniconda/base/envs/gamma/lib/python3.8/site-packages (from trio~=0.17->selenium) (24.2.0)\n",
      "Requirement already satisfied: sortedcontainers in /usr/local/Caskroom/miniconda/base/envs/gamma/lib/python3.8/site-packages (from trio~=0.17->selenium) (2.4.0)\n",
      "Requirement already satisfied: idna in /usr/local/Caskroom/miniconda/base/envs/gamma/lib/python3.8/site-packages (from trio~=0.17->selenium) (3.7)\n",
      "Requirement already satisfied: outcome in /usr/local/Caskroom/miniconda/base/envs/gamma/lib/python3.8/site-packages (from trio~=0.17->selenium) (1.3.0.post0)\n",
      "Requirement already satisfied: sniffio>=1.3.0 in /usr/local/Caskroom/miniconda/base/envs/gamma/lib/python3.8/site-packages (from trio~=0.17->selenium) (1.3.1)\n",
      "Requirement already satisfied: exceptiongroup in /usr/local/Caskroom/miniconda/base/envs/gamma/lib/python3.8/site-packages (from trio~=0.17->selenium) (1.2.2)\n",
      "Requirement already satisfied: wsproto>=0.14 in /usr/local/Caskroom/miniconda/base/envs/gamma/lib/python3.8/site-packages (from trio-websocket~=0.9->selenium) (1.2.0)\n",
      "Requirement already satisfied: pysocks!=1.5.7,<2.0,>=1.5.6 in /usr/local/Caskroom/miniconda/base/envs/gamma/lib/python3.8/site-packages (from urllib3[socks]<3,>=1.26->selenium) (1.7.1)\n",
      "Requirement already satisfied: h11<1,>=0.9.0 in /usr/local/Caskroom/miniconda/base/envs/gamma/lib/python3.8/site-packages (from wsproto>=0.14->trio-websocket~=0.9->selenium) (0.14.0)\n",
      "Note: you may need to restart the kernel to use updated packages.\n"
     ]
    }
   ],
   "source": [
    "%pip install selenium"
   ]
  },
  {
   "cell_type": "code",
   "execution_count": 484,
   "metadata": {},
   "outputs": [
    {
     "name": "stdout",
     "output_type": "stream",
     "text": [
      "Requirement already satisfied: webdriver-manager in /usr/local/Caskroom/miniconda/base/envs/gamma/lib/python3.8/site-packages (4.0.2)\n",
      "Requirement already satisfied: requests in /usr/local/Caskroom/miniconda/base/envs/gamma/lib/python3.8/site-packages (from webdriver-manager) (2.32.3)\n",
      "Requirement already satisfied: python-dotenv in /usr/local/Caskroom/miniconda/base/envs/gamma/lib/python3.8/site-packages (from webdriver-manager) (1.0.1)\n",
      "Requirement already satisfied: packaging in /usr/local/Caskroom/miniconda/base/envs/gamma/lib/python3.8/site-packages (from webdriver-manager) (24.1)\n",
      "Requirement already satisfied: charset-normalizer<4,>=2 in /usr/local/Caskroom/miniconda/base/envs/gamma/lib/python3.8/site-packages (from requests->webdriver-manager) (3.3.2)\n",
      "Requirement already satisfied: idna<4,>=2.5 in /usr/local/Caskroom/miniconda/base/envs/gamma/lib/python3.8/site-packages (from requests->webdriver-manager) (3.7)\n",
      "Requirement already satisfied: urllib3<3,>=1.21.1 in /usr/local/Caskroom/miniconda/base/envs/gamma/lib/python3.8/site-packages (from requests->webdriver-manager) (2.2.2)\n",
      "Requirement already satisfied: certifi>=2017.4.17 in /usr/local/Caskroom/miniconda/base/envs/gamma/lib/python3.8/site-packages (from requests->webdriver-manager) (2024.8.30)\n",
      "Note: you may need to restart the kernel to use updated packages.\n"
     ]
    }
   ],
   "source": [
    "%pip install webdriver-manager"
   ]
  },
  {
   "cell_type": "code",
   "execution_count": 485,
   "metadata": {},
   "outputs": [],
   "source": [
    "from selenium import webdriver\n",
    "from selenium.webdriver.chrome.service import Service\n",
    "from webdriver_manager.chrome import ChromeDriverManager # Se encarga de descargar el driver de chrome y de mantenerlo actualizado\n",
    "from selenium.webdriver.chrome.options import Options\n",
    "from selenium.webdriver.support.ui import WebDriverWait\n"
   ]
  },
  {
   "cell_type": "code",
   "execution_count": 486,
   "metadata": {},
   "outputs": [],
   "source": [
    "chrome_options = webdriver.ChromeOptions()\n",
    "chrome_options.add_experimental_option(\"excludeSwitches\", [\"enable-automation\"])\n",
    "chrome_options.add_experimental_option('useAutomationExtension', False)\n",
    "chrome_options.add_argument(\"--disable-infobars\") #desactivar los de chrome is being used by a test software"
   ]
  },
  {
   "cell_type": "code",
   "execution_count": 487,
   "metadata": {},
   "outputs": [],
   "source": [
    "import time\n",
    "import warnings\n",
    "warnings.filterwarnings('ignore')\n",
    "from selenium.webdriver.common.by import By # By es para buscar por tag, clase, id...\n",
    "import requests as req\n",
    "from bs4 import BeautifulSoup as bs\n",
    "import os\n",
    "import selenium.webdriver.common.keys \n",
    "from selenium.webdriver.common.keys import Keys\n",
    "from selenium.webdriver.support import expected_conditions as EC\n",
    "import random\n",
    "from dotenv import load_dotenv\n",
    "from selenium.webdriver.common.action_chains import ActionChains"
   ]
  },
  {
   "cell_type": "code",
   "execution_count": 488,
   "metadata": {},
   "outputs": [],
   "source": [
    "driver = webdriver.Chrome()\n",
    "\n",
    "form_url = \"https://docs.google.com/forms/d/e/1FAIpQLSej_M_4bAB4m_L8KcFoGPWWKBYrkZ9TEktwtWQ-7j2pIJNEkA/viewform?hr_submission=ChkIiYed2Z0UEhAI1J22_vUUEgcIj9X-6_sSEAE\"\n",
    "driver.get(form_url)\n",
    "\n",
    "time.sleep(3)"
   ]
  },
  {
   "cell_type": "code",
   "execution_count": 489,
   "metadata": {},
   "outputs": [],
   "source": [
    "#cargar variable .env\n",
    "load_dotenv()\n",
    "\n",
    "usuario = os.getenv('user_gamma')\n",
    "clave = os.getenv('password_gamma')\n",
    "link = os.getenv('link_video')"
   ]
  },
  {
   "cell_type": "code",
   "execution_count": 490,
   "metadata": {},
   "outputs": [],
   "source": [
    "#log in\n",
    "email = driver.find_element(By.XPATH, '//*[@id=\"identifierId\"]')\n",
    "email.send_keys(usuario) \n",
    "time.sleep(3)\n",
    "email.send_keys(Keys.RETURN) \n",
    "time.sleep(5)"
   ]
  },
  {
   "cell_type": "code",
   "execution_count": 491,
   "metadata": {},
   "outputs": [],
   "source": [
    "password = driver.find_element(By.XPATH, '//*[@id=\"password\"]/div[1]/div/div[1]/input')\n",
    "password.send_keys(clave) \n",
    "time.sleep(2)\n",
    "password.send_keys(Keys.RETURN)\n",
    "\n",
    "time.sleep(4)"
   ]
  },
  {
   "cell_type": "code",
   "execution_count": 492,
   "metadata": {},
   "outputs": [],
   "source": [
    "#time for scrolling set up\n",
    "scroll_pause = 0.2  \n",
    "scroll_height = 300 \n",
    "last_height = driver.execute_script(\"return document.body.scrollHeight\")"
   ]
  },
  {
   "cell_type": "code",
   "execution_count": 493,
   "metadata": {},
   "outputs": [],
   "source": [
    "#scroll to find record\n",
    "record = driver.find_element(By.XPATH, '//*[@id=\"mG61Hd\"]/div[2]/div/div[2]/div[1]/div[1]')\n",
    "driver.execute_script(\"arguments[0].scrollIntoView();\", record)"
   ]
  },
  {
   "cell_type": "code",
   "execution_count": 494,
   "metadata": {},
   "outputs": [],
   "source": [
    "#click on record\n",
    "record_box = driver.find_element(By.CSS_SELECTOR, '[jscontroller=\"EcW08c\"]')\n",
    "record_box.click()"
   ]
  },
  {
   "cell_type": "code",
   "execution_count": 495,
   "metadata": {},
   "outputs": [],
   "source": [
    "#scroll to find q 1\n",
    "question = driver.find_element(By.XPATH, '//*[@id=\"i21\"]/div[3]/div')\n",
    "driver.execute_script(\"arguments[0].scrollIntoView();\", question)"
   ]
  },
  {
   "cell_type": "code",
   "execution_count": 496,
   "metadata": {},
   "outputs": [],
   "source": [
    "#clcik on right answer for q1\n",
    "question.click()"
   ]
  },
  {
   "cell_type": "code",
   "execution_count": 497,
   "metadata": {},
   "outputs": [],
   "source": [
    "answer1 = []\n",
    "youtube =  driver.find_element(By.CSS_SELECTOR, \"iframe.GonXTb\")\n",
    "driver.execute_script(\"arguments[0].scrollIntoView();\", youtube)\n",
    "youtube.click()\n",
    "time.sleep(4)\n",
    "youtube.click()"
   ]
  },
  {
   "cell_type": "code",
   "execution_count": 498,
   "metadata": {},
   "outputs": [
    {
     "name": "stdout",
     "output_type": "stream",
     "text": [
      "['https://www.youtube.com/embed/2_x3qsBJndo?rel=0&embed_config=%7B%22enc%22%3A%22AQ2SFqBrH_zb-ySU9Q8bRQHszf6pVs6ayCwTBZr0saQOTQQ9I-DREXV53-QAN6ZDjBtDLkS8XrK3eln1Eyv5b-77vF5QKMfUA45Lg7O6FnQqQEqEjUAdmHDbMUz-8jY71F9YFYRksIv6Ubt48sWLovetrpw1BKTnPt_VzbbauA7lMUaE%22%7D&errorlinks=1&rct=CpcBAQ2SFqCPfYVFCgQP6T5FPJXHLo_kc7tX3f9XwmUc0qI_Vs9-EyCtAYyMUnENR_nIT8pL_Nsth4M9hjCtpad2fXRVe_oiFIEgeCw2oAii_oCt1rb-FydmiybTkUPEBIY9yY3c_hVuqwXa0LSRuubSh97PWxYTl5dSiu7tquqXQWoxS_2RVWogvsi2BF6sLiFQDM6nv-dh3Q%3D%3D']\n"
     ]
    }
   ],
   "source": [
    "link_youtube = youtube.get_attribute('src')\n",
    "answer1.append(link_youtube)\n",
    "print(answer1)\n",
    "\n",
    "time.sleep(3)"
   ]
  },
  {
   "cell_type": "code",
   "execution_count": 499,
   "metadata": {},
   "outputs": [
    {
     "name": "stdout",
     "output_type": "stream",
     "text": [
      "https://www.youtube.com/embed/2_x3qsBJndo?rel=0&embed_config=%7B%22enc%22%3A%22AQ2SFqBrH_zb-ySU9Q8bRQHszf6pVs6ayCwTBZr0saQOTQQ9I-DREXV53-QAN6ZDjBtDLkS8XrK3eln1Eyv5b-77vF5QKMfUA45Lg7O6FnQqQEqEjUAdmHDbMUz-8jY71F9YFYRksIv6Ubt48sWLovetrpw1BKTnPt_VzbbauA7lMUaE%22%7D&errorlinks=1&rct=CpcBAQ2SFqCPfYVFCgQP6T5FPJXHLo_kc7tX3f9XwmUc0qI_Vs9-EyCtAYyMUnENR_nIT8pL_Nsth4M9hjCtpad2fXRVe_oiFIEgeCw2oAii_oCt1rb-FydmiybTkUPEBIY9yY3c_hVuqwXa0LSRuubSh97PWxYTl5dSiu7tquqXQWoxS_2RVWogvsi2BF6sLiFQDM6nv-dh3Q%3D%3D\n"
     ]
    }
   ],
   "source": [
    "string_answer1 =  answer1[0]\n",
    "print(string_answer1)"
   ]
  },
  {
   "cell_type": "code",
   "execution_count": 500,
   "metadata": {},
   "outputs": [],
   "source": [
    "driver.switch_to.default_content()"
   ]
  },
  {
   "cell_type": "code",
   "execution_count": 501,
   "metadata": {},
   "outputs": [
    {
     "name": "stdout",
     "output_type": "stream",
     "text": [
      "typed\n"
     ]
    }
   ],
   "source": [
    "link_video = \"https://www.youtube.com/6987aa1a-4b28-4ed0-a526-eb1555ecf35a\"\n",
    "wait = WebDriverWait(driver, 10)\n",
    "typein1 = wait.until(EC.visibility_of_element_located((By.XPATH, '//*[@id=\"mG61Hd\"]/div[2]/div/div[2]/div[4]/div/div/div[2]/div/div[1]/div/div[1]/input'))) \n",
    "\n",
    "typein1.click()\n",
    "time.sleep(2)\n",
    "\n",
    "if typein1.is_displayed() and typein1.is_enabled():\n",
    "    for character in link_video:\n",
    "        typein1.send_keys(character)\n",
    "        time.sleep(random.uniform(0.3, 0.75))\n",
    "else:\n",
    "    print(\"I cant type\")\n",
    "\n",
    "\n",
    "print('typed')"
   ]
  },
  {
   "cell_type": "code",
   "execution_count": 502,
   "metadata": {},
   "outputs": [],
   "source": [
    "image_url = driver.find_element(By.CSS_SELECTOR, '#i28 > span > a')\n",
    "image_url.click()"
   ]
  },
  {
   "cell_type": "code",
   "execution_count": 503,
   "metadata": {},
   "outputs": [],
   "source": [
    "driver.switch_to.window(driver.window_handles[1])\n",
    "time.sleep(1)"
   ]
  },
  {
   "cell_type": "code",
   "execution_count": 504,
   "metadata": {},
   "outputs": [],
   "source": [
    "cookies_deny = WebDriverWait(driver, 10).until(EC.element_to_be_clickable((By.XPATH, \"//button[text()='Aceptar solo las esenciales']\")))\n",
    "cookies_deny.click() "
   ]
  },
  {
   "cell_type": "code",
   "execution_count": 505,
   "metadata": {},
   "outputs": [],
   "source": [
    "related_img = driver.find_element(By.CSS_SELECTOR, '#app > div > div > div:nth-child(4) > div > div.m3xjc.NZxG4.n6mLh.BOC6f > div > div:nth-child(2)')\n",
    "driver.execute_script(\"arguments[0].scrollIntoView(true);\", related_img)"
   ]
  },
  {
   "cell_type": "code",
   "execution_count": 506,
   "metadata": {},
   "outputs": [],
   "source": [
    "list_img = []\n",
    "\n",
    "image_element = driver.find_element(By.CSS_SELECTOR, 'img.I7OuT.DVW3V.L1BOa')\n",
    "driver.execute_script(\"arguments[0].scrollIntoView(true);\", image_element)\n",
    "\n",
    "time.sleep(1.5)\n",
    "\n",
    "src = image_element.get_attribute('src')\n",
    "list_img.append(src)"
   ]
  },
  {
   "cell_type": "code",
   "execution_count": 507,
   "metadata": {},
   "outputs": [],
   "source": [
    "image1 = driver.find_element(By.CSS_SELECTOR, 'img.I7OuT.DVW3V.L1BOa')\n",
    "src1 = image_element.get_attribute('src')\n",
    "list_img.append(src1)"
   ]
  },
  {
   "cell_type": "code",
   "execution_count": 508,
   "metadata": {},
   "outputs": [],
   "source": [
    "image2 = driver.find_element(By.CSS_SELECTOR, 'img[data-testid=\"photo-grid-masonry-img\"]')\n",
    "src2 = image_element.get_attribute('src')\n",
    "list_img.append(src2)"
   ]
  },
  {
   "cell_type": "code",
   "execution_count": 509,
   "metadata": {},
   "outputs": [],
   "source": [
    "image3 = driver.find_element(By.CSS_SELECTOR, 'img[data-testid=\"photo-grid-masonry-img\"]')\n",
    "src3 = image_element.get_attribute('src')\n",
    "list_img.append(src3)"
   ]
  },
  {
   "cell_type": "code",
   "execution_count": 510,
   "metadata": {},
   "outputs": [],
   "source": [
    "image4 = driver.find_element(By.CSS_SELECTOR, 'img[data-testid=\"photo-grid-masonry-img\"]')\n",
    "src4 = image_element.get_attribute('src')\n",
    "list_img.append(src4)"
   ]
  },
  {
   "cell_type": "code",
   "execution_count": 511,
   "metadata": {},
   "outputs": [],
   "source": [
    "image5 = driver.find_element(By.CSS_SELECTOR, 'img[data-testid=\"photo-grid-masonry-img\"]')\n",
    "src5 = image_element.get_attribute('src')\n",
    "list_img.append(src5)\n",
    "string_answer_6l = \", \".join(list_img) "
   ]
  },
  {
   "cell_type": "code",
   "execution_count": 512,
   "metadata": {},
   "outputs": [
    {
     "name": "stdout",
     "output_type": "stream",
     "text": [
      "foto 1: https://unsplash.com/es/fotos/una-persona-caminando-por-un-canon-en-el-desierto-9633dHhioC8; foto 2: https://unsplash.com/es/fotos/una-vista-de-una-cadena-montanosa-desde-un-punto-de-vista-alto-_iheCDGyWS8; foto 3: https://unsplash.com/es/fotos/el-sol-se-esta-poniendo-sobre-un-paisaje-desertico-WpOMM4uE-F8; foto 4: https://unsplash.com/es/fotos/el-sol-se-esta-poniendo-sobre-un-paisaje-rocoso-MV7iHCilMJc; foto 5: https://unsplash.com/es/fotos/una-colina-cubierta-de-hierba-con-montanas-al-fondo-Jgl1WK2e38U; foto 6: https://unsplash.com/es/fotos/una-vista-de-las-montanas-desde-un-punto-de-vista-alto-eU1P78Rge-k; foto 7: https://unsplash.com/es/fotos/un-hombre-parado-en-medio-de-un-desierto-g9wCI64k2yw; foto 8: https://unsplash.com/es/fotos/el-sol-se-esta-poniendo-sobre-una-cadena-montanosa--RlktmDy3Ec; foto 9: https://unsplash.com/es/fotos/un-paisaje-desertico-con-rocas-y-arena-THlO6Mkf5uI; foto 10: https://unsplash.com/es/fotos/una-persona-de-pie-en-la-cima-de-una-montana-aFkQwFefxGE; foto 11: https://unsplash.com/es/fotos/el-sol-se-esta-poniendo-sobre-un-paisaje-desertico-RySPDa0FdcQ; foto 12: https://unsplash.com/es/fotos/una-gran-formacion-rocosa-en-medio-de-un-desierto-bRRy9ucK1rY\n"
     ]
    }
   ],
   "source": [
    "#get pics thru blocks\n",
    "left_block = driver.find_element(By.CSS_SELECTOR,'#app > div > div > div:nth-child(4) > div > div.m3xjc.NZxG4.n6mLh.BOC6f > div > div:nth-child(2) > div > div > div.LYMM9 > div:nth-child(1)')\n",
    "right_block = driver.find_element(By.CSS_SELECTOR,'#app > div > div > div:nth-child(4) > div > div.m3xjc.NZxG4.n6mLh.BOC6f > div > div:nth-child(2) > div > div > div.LYMM9 > div:nth-child(2)')\n",
    "\n",
    "pic_left_block = left_block.find_elements(By.CLASS_NAME, 'zNNw1')\n",
    "pic_right_block = right_block.find_elements(By.CLASS_NAME, 'zNNw1')\n",
    "\n",
    "#extract all urls\n",
    "urls_left = [foto.get_attribute('href') for foto in pic_left_block]\n",
    "urls_right = [foto.get_attribute('href') for foto in pic_right_block]\n",
    "\n",
    "#combine both into a list and make it a string\n",
    "all_relaterd_pics = urls_right + urls_left\n",
    "string_answer_urls = '; '.join([f'foto {i+1}: {url}' for i, url in enumerate(all_relaterd_pics)])\n",
    "\n",
    "print(string_answer_urls)"
   ]
  },
  {
   "cell_type": "code",
   "execution_count": 513,
   "metadata": {},
   "outputs": [],
   "source": [
    "#switch window back to google forms\n",
    "driver.switch_to.window(driver.window_handles[0])"
   ]
  },
  {
   "cell_type": "code",
   "execution_count": 514,
   "metadata": {},
   "outputs": [],
   "source": [
    "input2 = driver.find_element(By.CSS_SELECTOR,'#mG61Hd > div.RH5hzf.RLS9Fe > div > div.o3Dpx > div:nth-child(6) > div > div > div.AgroKb > div > div.aCsJod.oJeWuf > div > div.Xb9hP > input')\n",
    "driver.execute_script(\"arguments[0].scrollIntoView(true);\", input2)\n",
    "time.sleep(3)\n",
    "input2.click()\n",
    "input2.send_keys(string_answer_urls)\n"
   ]
  },
  {
   "cell_type": "code",
   "execution_count": 515,
   "metadata": {},
   "outputs": [],
   "source": [
    "#finding and typing answer to last question (6urls)\n",
    "input3 = driver.find_element(By.CSS_SELECTOR, '#mG61Hd > div.RH5hzf.RLS9Fe > div > div.o3Dpx > div:nth-child(7) > div > div > div.AgroKb > div > div.RpC4Ne.oJeWuf > div.Pc9Gce.Wic03c > textarea') \n",
    "driver.execute_script(\"arguments[0].scrollIntoView(true);\", input3)\n",
    "time.sleep(3)\n",
    "input3.click()\n",
    "input3.send_keys(string_answer_6l)"
   ]
  },
  {
   "cell_type": "code",
   "execution_count": 516,
   "metadata": {},
   "outputs": [],
   "source": [
    "#click next\n",
    "next_button = driver.find_element(By.CSS_SELECTOR, '#mG61Hd > div.RH5hzf.RLS9Fe > div > div.ThHDze > div.DE3NNc.CekdCb > div.lRwqcd > div > span > span')\n",
    "next_button.click()"
   ]
  },
  {
   "cell_type": "code",
   "execution_count": 517,
   "metadata": {},
   "outputs": [],
   "source": [
    "#on new page scroll down a bit\n",
    "driver.execute_script(\"window.scrollBy(0, 320);\")"
   ]
  },
  {
   "cell_type": "code",
   "execution_count": 518,
   "metadata": {},
   "outputs": [],
   "source": [
    "#page 2 find and click answer (5)\n",
    "p2_q1 = driver.find_element(By.CSS_SELECTOR, '#mG61Hd > div.RH5hzf.RLS9Fe > div > div.o3Dpx > div:nth-child(2) > div > div > div.PY6Xd > div > span > div > label:nth-child(6) > div.eRqjfd > div > div > div.vd3tt > div')\n",
    "p2_q1.click()"
   ]
  },
  {
   "cell_type": "code",
   "execution_count": 519,
   "metadata": {},
   "outputs": [],
   "source": [
    "labels_to_click = [\n",
    "    '1, response for 1',\n",
    "    '1, response for 2',\n",
    "    '1, response for 3',\n",
    "    '2, response for 3',\n",
    "    '3, response for 3'\n",
    "    \n",
    "]\n",
    "\n",
    "for label in labels_to_click:\n",
    "    try:\n",
    "        # finding element\n",
    "        click_element = driver.find_element(By.CSS_SELECTOR, f'[aria-label=\"{label}\"]')\n",
    "        \n",
    "        # Usar ActionChains si es necesario\n",
    "        action = ActionChains(driver)\n",
    "        action.move_to_element(click_element).click().perform()\n",
    "        \n",
    "        # Esperar un momento para asegurarte que la acción se completa\n",
    "        time.sleep(2)\n",
    "        \n",
    "    except Exception as e:\n",
    "        print(f\"couldnt find'{label}': {e}\")\n",
    "\n"
   ]
  },
  {
   "cell_type": "code",
   "execution_count": 520,
   "metadata": {},
   "outputs": [],
   "source": [
    "#scroll down another bit\n",
    "driver.execute_script(\"window.scrollBy(0, 450);\")"
   ]
  },
  {
   "cell_type": "code",
   "execution_count": 521,
   "metadata": {},
   "outputs": [],
   "source": [
    "drop_menu = driver.find_element(By.CSS_SELECTOR, '#mG61Hd > div.RH5hzf.RLS9Fe > div > div.o3Dpx > div:nth-child(4) > div > div > div.vQES8d > div > div:nth-child(1) > div.e2CuFe.eU809d')\n",
    "driver.execute_script(\"arguments[0].scrollIntoView(true);\", drop_menu)\n",
    "drop_menu.click()"
   ]
  },
  {
   "cell_type": "code",
   "execution_count": 522,
   "metadata": {},
   "outputs": [],
   "source": [
    "#finding and entering dropdown menu's shadow\n",
    "shadow_host = driver.find_element(By.CSS_SELECTOR, '#mG61Hd > div.RH5hzf.RLS9Fe > div > div.o3Dpx > div:nth-child(4) > div > div > div.vQES8d > div > div.OA0qNb.ncFHed.QXL7Te')\n",
    "shadow_root = driver.execute_script(\"return arguments[0].shadowRoot\", shadow_host)"
   ]
  },
  {
   "cell_type": "code",
   "execution_count": 523,
   "metadata": {},
   "outputs": [],
   "source": [
    "#clicking on si\n",
    "time.sleep(4)\n",
    "si_element = WebDriverWait(driver, 10).until(EC.element_to_be_clickable((By.XPATH, '//*[@id=\"mG61Hd\"]/div[2]/div/div[2]/div[4]/div/div/div[2]/div/div[2]/div[3]/span')))\n",
    "si_element.click()"
   ]
  },
  {
   "cell_type": "code",
   "execution_count": 524,
   "metadata": {},
   "outputs": [],
   "source": [
    "# Click the \"Add file\" element\n",
    "add_file = WebDriverWait(driver, 5).until(EC.element_to_be_clickable((By.XPATH, \"//span[text()='Add file']\")))\n",
    "add_file.click()"
   ]
  },
  {
   "cell_type": "code",
   "execution_count": 525,
   "metadata": {},
   "outputs": [
    {
     "data": {
      "text/plain": [
       "True"
      ]
     },
     "execution_count": 525,
     "metadata": {},
     "output_type": "execute_result"
    }
   ],
   "source": [
    "WebDriverWait(driver, 10).until(EC.frame_to_be_available_and_switch_to_it((By.XPATH, \"//iframe[contains(@src, 'https://docs.google.com/picker')]\")))"
   ]
  },
  {
   "cell_type": "code",
   "execution_count": 526,
   "metadata": {},
   "outputs": [],
   "source": [
    "#driver.get('https://docs.google.com/picker?protocol=gadgets&origin=https%3A%2F%2Fdocs.google.com&parent=https%3A%2F%2Fdocs.google.com%2Frelay.html&hl=en&authuser=0&newDriveView=true&hostId=file-upload&title=Insert%20file&actionPaneText=Upload%201%20supported%20file.%20Max%20100%20MB.%20A%20copy%20of%20the%20selected%20file%20will%20be%20sent.%20Once%20submitted%2C%20files%20cannot%20be%20edited%20or%20removed.&maxItems=1&multiselectEnabled=true&ftd=true&maxSizeBytesPerItem=104857600&ifls=1727684318399&nav=((%22upload%22%2C%2C%7B%22query%22%3A%22docs%22%7D)%2C(%22all%22%2C%2C%7B%22ownedByMe%22%3Atrue%2C%22includeFolders%22%3Atrue%7D)%2C(null%2C%22-%22)%2C(%22recently-picked%22))&rpcService=s6l25079y908&rpctoken=i3f5kpl82qy4&usegapi=1&jsh=m%3B%2F_%2Fscs%2Fabc-static%2F_%2Fjs%2Fk%3Dgapi.lb.en.2ttuSS2XBQ8.O%2Fam%3DAACA%2Fd%3D1%2Frs%3DAHpOoo-TYe36ShA0ds8KrukIhF82BwaKlg%2Fm%3D__features__#rpctoken=i3f5kpl82qy4&id=s6l25079y908&_gfid=s6l25079y908&parent=https%3A%2F%2Fdocs.google.com&pfname=')"
   ]
  },
  {
   "cell_type": "code",
   "execution_count": 527,
   "metadata": {},
   "outputs": [],
   "source": [
    "#shadow_host2 = driver.find_element(By.CSS_SELECTOR, '[class=\"VfPpkd-AznF2e VfPpkd-AznF2e-OWXEXe-jJNx8e-QBLLGd WbUJNb FEsNhd\"]')"
   ]
  },
  {
   "cell_type": "code",
   "execution_count": 528,
   "metadata": {},
   "outputs": [],
   "source": [
    "#shadow_root2 = driver.execute_script('return arguments[0].shadowRoot', shadow_host2)"
   ]
  },
  {
   "cell_type": "code",
   "execution_count": 529,
   "metadata": {},
   "outputs": [],
   "source": [
    "my_drive_button = WebDriverWait(driver, 10).until(EC.element_to_be_clickable((By.CSS_SELECTOR, '[tabindex=\"-1\"]')))\n",
    "my_drive_button.click()"
   ]
  },
  {
   "cell_type": "code",
   "execution_count": 530,
   "metadata": {},
   "outputs": [],
   "source": [
    "search_button = WebDriverWait(driver, 10).until(EC.element_to_be_clickable((By.CSS_SELECTOR, '[aria-label=\"Search in Drive or paste URL\"]')))\n",
    "search_button.click()"
   ]
  },
  {
   "cell_type": "code",
   "execution_count": 531,
   "metadata": {},
   "outputs": [],
   "source": [
    "search_button.send_keys('google_formulario_jovanna.ipynb')"
   ]
  },
  {
   "cell_type": "code",
   "execution_count": 532,
   "metadata": {},
   "outputs": [],
   "source": [
    "time.sleep(2)\n",
    "search_button.send_keys(Keys.RETURN)"
   ]
  },
  {
   "cell_type": "code",
   "execution_count": 533,
   "metadata": {},
   "outputs": [],
   "source": [
    "time.sleep(5)"
   ]
  },
  {
   "cell_type": "code",
   "execution_count": 534,
   "metadata": {},
   "outputs": [],
   "source": [
    "file = driver.find_element(By.CSS_SELECTOR, '[role=\"option\"]')"
   ]
  },
  {
   "cell_type": "code",
   "execution_count": 535,
   "metadata": {},
   "outputs": [],
   "source": [
    "file.click()"
   ]
  },
  {
   "cell_type": "code",
   "execution_count": 536,
   "metadata": {},
   "outputs": [],
   "source": [
    "time.sleep(5)"
   ]
  },
  {
   "cell_type": "code",
   "execution_count": 537,
   "metadata": {},
   "outputs": [],
   "source": [
    "insert = driver.find_element(By.CSS_SELECTOR, '#yDmH0d > div.Q6HCU.IzuY1c > div.aw9Lfe > div > div.HUStxf > button > span')"
   ]
  },
  {
   "cell_type": "code",
   "execution_count": 538,
   "metadata": {},
   "outputs": [],
   "source": [
    "insert.click()"
   ]
  },
  {
   "cell_type": "code",
   "execution_count": 539,
   "metadata": {},
   "outputs": [],
   "source": [
    "driver.switch_to.default_content()\n"
   ]
  },
  {
   "cell_type": "code",
   "execution_count": 540,
   "metadata": {},
   "outputs": [],
   "source": [
    "time.sleep(3)"
   ]
  },
  {
   "cell_type": "code",
   "execution_count": 541,
   "metadata": {},
   "outputs": [],
   "source": [
    "submit = driver.find_element(By.CSS_SELECTOR, '[aria-label=\"Submit\"]')"
   ]
  },
  {
   "cell_type": "code",
   "execution_count": 542,
   "metadata": {},
   "outputs": [],
   "source": [
    "#try out for changing submit text in real time ...\n",
    "driver.execute_script(\"arguments[0].textContent = '';\", submit)"
   ]
  },
  {
   "cell_type": "code",
   "execution_count": 543,
   "metadata": {},
   "outputs": [],
   "source": [
    "text_replace = \"It's Britney, Bitch! (Drops Mic)\""
   ]
  },
  {
   "cell_type": "code",
   "execution_count": 544,
   "metadata": {},
   "outputs": [],
   "source": [
    "for letter in text_replace:\n",
    "    driver.execute_script(\"arguments[0].innerText += arguments[1];\", submit, letter)\n",
    "    time.sleep(random.uniform(0.02, 0.15))"
   ]
  },
  {
   "cell_type": "code",
   "execution_count": 545,
   "metadata": {},
   "outputs": [],
   "source": [
    "time.sleep(3)"
   ]
  },
  {
   "cell_type": "code",
   "execution_count": 546,
   "metadata": {},
   "outputs": [],
   "source": [
    "submit.click()"
   ]
  }
 ],
 "metadata": {
  "kernelspec": {
   "display_name": "gamma",
   "language": "python",
   "name": "python3"
  },
  "language_info": {
   "codemirror_mode": {
    "name": "ipython",
    "version": 3
   },
   "file_extension": ".py",
   "mimetype": "text/x-python",
   "name": "python",
   "nbconvert_exporter": "python",
   "pygments_lexer": "ipython3",
   "version": "3.8.19"
  }
 },
 "nbformat": 4,
 "nbformat_minor": 2
}
